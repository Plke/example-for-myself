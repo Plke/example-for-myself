{
 "cells": [
  {
   "cell_type": "code",
   "execution_count": 280,
   "metadata": {},
   "outputs": [],
   "source": [
    "# -*- coding:utf-8 -*-\n",
    "import torch\n",
    "import torch.nn as nn\n",
    "from torch.autograd import Variable\n",
    "from torch.utils.data import DataLoader\n",
    "import matplotlib.pyplot as plt\n",
    "from torch.utils.data import Dataset\n",
    "import numpy as np\n",
    "import torch.nn.functional as F\n",
    "import matplotlib.pyplot as plt\n",
    "from torch import optim\n",
    "import torchvision.transforms as transforms\n",
    "import torch.nn.functional as F\n",
    "from tqdm import tqdm\n",
    "from sklearn.model_selection import train_test_split"
   ]
  },
  {
   "cell_type": "code",
   "execution_count": 281,
   "metadata": {},
   "outputs": [],
   "source": [
    "def train(train_loader, net, optimizer, loss,device='cpu'):\n",
    "    # set model to train mode\n",
    "    net.train()\n",
    "    corrects = 0\n",
    "    for inputs, labels in tqdm(train_loader):\n",
    "\n",
    "        inputs = inputs.to(device)\n",
    "        labels = labels.to(device)\n",
    "\n",
    "        # clear the gradients\n",
    "        optimizer.zero_grad()\n",
    "        inputs =inputs.float()\n",
    "        outputs = net(inputs)  # inputs格式要为float\n",
    "        l = loss(outputs, labels)\n",
    "        l.backward()\n",
    "        optimizer.step()\n",
    "        \n",
    "        preds = outputs.argmax(1).detach()\n",
    "        y=labels.argmax(1)\n",
    "        \n",
    "        corrects += (preds == y).sum()\n",
    "    # return torch.true_divide(corrects, len(train_loader.dataset)).item()\n",
    "    return corrects/len(train_loader.dataset),l.item()\n",
    "\n"
   ]
  },
  {
   "cell_type": "code",
   "execution_count": 282,
   "metadata": {},
   "outputs": [],
   "source": [
    "def test(test_loader, loss,net,device='cpu'):\n",
    "\n",
    "    # set model to eval mode\n",
    "    net.eval()\n",
    "    corrects = 0\n",
    "    with torch.no_grad():\n",
    "        for inputs, labels in tqdm(test_loader):\n",
    "            inputs = inputs.to(device)\n",
    "            labels = labels.to(device)\n",
    "            inputs =inputs.float()\n",
    "            outputs = net(inputs)\n",
    "            preds = outputs.argmax(1).detach()\n",
    "            y=labels.argmax(1)\n",
    "            l = loss(outputs, labels)\n",
    "            corrects += (preds == y).sum()\n",
    "            \n",
    "    return corrects/len(test_loader.dataset),l.item()"
   ]
  },
  {
   "cell_type": "code",
   "execution_count": 283,
   "metadata": {},
   "outputs": [],
   "source": [
    "class MYCNN(nn.Module):\n",
    "    def __init__(self, num_classes=10):\n",
    "        super(MYCNN, self).__init__()\n",
    "        self.layer1 = nn.Sequential(\n",
    "            nn.Conv2d(1, 16, kernel_size=5, stride=1, padding=2),\n",
    "            nn.BatchNorm2d(16),\n",
    "            nn.ReLU(),\n",
    "            nn.MaxPool2d(kernel_size=2, stride=2))\n",
    "        self.layer2 = nn.Sequential(\n",
    "            nn.Conv2d(16, 32, kernel_size=5, stride=1, padding=2),\n",
    "            nn.BatchNorm2d(32),\n",
    "            nn.ReLU(),\n",
    "            nn.MaxPool2d(kernel_size=2, stride=2))\n",
    "        self.fc = nn.Linear(7*7*32, num_classes)\n",
    "        \n",
    "    def forward(self, x):\n",
    "        out = self.layer1(x)\n",
    "        out = self.layer2(out)\n",
    "        out = out.reshape(out.size(0), -1)\n",
    "        out = self.fc(out)\n",
    "        return out"
   ]
  },
  {
   "cell_type": "code",
   "execution_count": 284,
   "metadata": {},
   "outputs": [],
   "source": [
    "class my_dataset(Dataset):\n",
    "    def __init__(self,x,y,transforms=None):\n",
    "        self.x = x\n",
    "        final=np.zeros((y.shape[0],10))\n",
    "        for i in range(len(y)):\n",
    "            final[i,y[i]]=1\n",
    "        self.y=final\n",
    "        \n",
    "        print(x.shape,self.y.shape)\n",
    "        self.transforms=transforms\n",
    "        \n",
    "    def __getitem__(self, index):\n",
    "        if self.transforms!=None:\n",
    "            return self.transforms(self.x[index].reshape((28,28))),self.y[index,:]\n",
    "        else:\n",
    "            return self.x[index,:].reshape((28,28)), self.y[index]\n",
    "        \n",
    "    def __len__(self):\n",
    "        return len(self.x)"
   ]
  },
  {
   "cell_type": "code",
   "execution_count": 285,
   "metadata": {},
   "outputs": [],
   "source": [
    "model=MYCNN()\n",
    "net = model.cuda()\n",
    "device=\"cuda\"\n",
    "optimizer = torch.optim.Adam(model.parameters(), lr=0.001, weight_decay=1e-4)\n",
    "loss = nn.CrossEntropyLoss()\n",
    "batch_size=128"
   ]
  },
  {
   "cell_type": "code",
   "execution_count": 286,
   "metadata": {},
   "outputs": [
    {
     "name": "stdout",
     "output_type": "stream",
     "text": [
      "(56000, 784) (56000, 10)\n",
      "(14000, 784) (14000, 10)\n"
     ]
    }
   ],
   "source": [
    "train_transforms = transforms.Compose([\n",
    "\n",
    "    transforms.ToTensor(),\n",
    "    transforms.Normalize(mean=[0.5], std=[ 0.5])\n",
    "\n",
    "])\n",
    "\n",
    "X = np.load('data//x.npy',allow_pickle=1)\n",
    "Y=np.load('data//y.npy',allow_pickle=1)\n",
    "\n",
    "\n",
    "# 将数据集分为训练集和测试集\n",
    "X_train, X_test, y_train, y_test = train_test_split(X,Y, test_size=0.2)\n",
    "train_data=my_dataset(X_train,y_train,transforms=train_transforms)\n",
    "test_data=my_dataset(X_test,y_test,transforms=train_transforms)\n",
    "train_loader = DataLoader(train_data,  shuffle=True, batch_size=batch_size)\n",
    "test_loader = DataLoader(test_data, batch_size=batch_size)"
   ]
  },
  {
   "cell_type": "code",
   "execution_count": 287,
   "metadata": {},
   "outputs": [
    {
     "name": "stderr",
     "output_type": "stream",
     "text": [
      "100%|██████████| 438/438 [00:05<00:00, 84.29it/s]\n",
      "100%|██████████| 110/110 [00:01<00:00, 104.49it/s]\n"
     ]
    },
    {
     "name": "stdout",
     "output_type": "stream",
     "text": [
      "Epoch: 1  Train Loss: 0.151, Acc: 0.954\n",
      "Epoch: 1  Test Loss: 0.104, Acc: 0.980\n",
      "\n"
     ]
    },
    {
     "name": "stderr",
     "output_type": "stream",
     "text": [
      "100%|██████████| 438/438 [00:05<00:00, 85.12it/s]\n",
      "100%|██████████| 110/110 [00:01<00:00, 108.87it/s]\n"
     ]
    },
    {
     "name": "stdout",
     "output_type": "stream",
     "text": [
      "Epoch: 2  Train Loss: 0.015, Acc: 0.984\n",
      "Epoch: 2  Test Loss: 0.187, Acc: 0.982\n",
      "\n"
     ]
    },
    {
     "name": "stderr",
     "output_type": "stream",
     "text": [
      "100%|██████████| 438/438 [00:05<00:00, 84.82it/s]\n",
      "100%|██████████| 110/110 [00:01<00:00, 108.47it/s]\n"
     ]
    },
    {
     "name": "stdout",
     "output_type": "stream",
     "text": [
      "Epoch: 3  Train Loss: 0.040, Acc: 0.988\n",
      "Epoch: 3  Test Loss: 0.056, Acc: 0.983\n",
      "\n"
     ]
    },
    {
     "name": "stderr",
     "output_type": "stream",
     "text": [
      "100%|██████████| 438/438 [00:05<00:00, 85.43it/s]\n",
      "100%|██████████| 110/110 [00:01<00:00, 108.36it/s]\n"
     ]
    },
    {
     "name": "stdout",
     "output_type": "stream",
     "text": [
      "Epoch: 4  Train Loss: 0.006, Acc: 0.990\n",
      "Epoch: 4  Test Loss: 0.044, Acc: 0.985\n",
      "\n"
     ]
    },
    {
     "name": "stderr",
     "output_type": "stream",
     "text": [
      "100%|██████████| 438/438 [00:05<00:00, 84.80it/s]\n",
      "100%|██████████| 110/110 [00:01<00:00, 107.16it/s]"
     ]
    },
    {
     "name": "stdout",
     "output_type": "stream",
     "text": [
      "Epoch: 5  Train Loss: 0.017, Acc: 0.992\n",
      "Epoch: 5  Test Loss: 0.059, Acc: 0.990\n",
      "\n"
     ]
    },
    {
     "name": "stderr",
     "output_type": "stream",
     "text": [
      "\n"
     ]
    }
   ],
   "source": [
    "train_acc = []\n",
    "test_acc = []\n",
    "train_loss = []\n",
    "test_loss = []\n",
    "epoch = 5\n",
    "max_acc = 0\n",
    "for i in (range(epoch)):\n",
    "    temp_acc, temp_loss = train(train_loader, net, optimizer, loss, device)\n",
    "    train_acc.append(temp_acc)\n",
    "    train_loss.append(temp_loss)\n",
    "    \n",
    "    temp_acc, temp_loss = test(test_loader, loss, net, device)\n",
    "    test_acc.append(temp_acc)\n",
    "    test_loss.append(temp_loss)\n",
    "    if temp_acc >= max_acc:\n",
    "        max_acc = temp_acc\n",
    "        torch.save(model.state_dict(),  'best.pth')\n",
    "    print(\"Epoch: %d  Train Loss: %.3f, Acc: %.3f\" %\n",
    "          (i+1, train_loss[i], train_acc[i]))\n",
    "    print(\"Epoch: %d  Test Loss: %.3f, Acc: %.3f\\n\" %\n",
    "          (i+1, test_loss[i], test_acc[i]))\n"
   ]
  },
  {
   "cell_type": "code",
   "execution_count": null,
   "metadata": {},
   "outputs": [],
   "source": []
  },
  {
   "cell_type": "code",
   "execution_count": 288,
   "metadata": {},
   "outputs": [],
   "source": [
    "import numpy as np\n",
    "import matplotlib.pyplot as plt\n",
    "from matplotlib import rcParams\n",
    "\n",
    "# -- 混淆矩阵 --\n",
    "# t为结果向量(n,1)，y为标签向量(n,1)，classes为标签列表(n,)\n",
    "# 其中默认标签y[i][0]表示classes[y[i][0]]类，比如classes=['猫','狗','鸭子','猪']，若y[i][0]为0则表示为猫\n",
    "def confusion_matrix_plt(t, y, classes):\n",
    "    # 构建混淆矩阵\n",
    "    confusion_matrix = np.zeros((len(classes), len(classes)), dtype='int')\n",
    "    for i in range(t.shape[0]):\n",
    "        confusion_matrix[y[i][0]][t[i][0]] += 1\n",
    "    # print(confusion_matrix)\n",
    "\n",
    "    # 可视化\n",
    "    proportion = []\n",
    "    for i in confusion_matrix:\n",
    "        for j in i:\n",
    "            temp = j\n",
    "            proportion.append(temp)\n",
    "\n",
    "    proportion = np.array(proportion).reshape(len(classes), len(classes))  # reshape(列的长度，行的长度)\n",
    "\n",
    "    config = {\n",
    "        \"font.family\": 'Times New Roman',  # 设置字体类型\n",
    "    }\n",
    "    rcParams.update(config)\n",
    "    plt.imshow(proportion, interpolation='nearest', cmap=plt.cm.Blues)  # 按照像素显示出矩阵\n",
    "    # (改变颜色：'Greys', 'Purples', 'Blues', 'Greens', 'Oranges', 'Reds','YlOrBr', 'YlOrRd',\n",
    "    # 'OrRd', 'PuRd', 'RdPu', 'BuPu','GnBu', 'PuBu', 'YlGnBu', 'PuBuGn', 'BuGn', 'YlGn')\n",
    "    plt.title('confusion_matrix')\n",
    "    plt.colorbar()\n",
    "    tick_marks = np.arange(len(classes))\n",
    "    plt.xticks(tick_marks, classes, fontsize=12)\n",
    "    plt.yticks(tick_marks, classes, fontsize=12)\n",
    "\n",
    "    thresh = confusion_matrix.max() / 2.\n",
    "\n",
    "    iters = np.reshape([[[i, j] for j in range(len(classes))] for i in range(len(classes))], (confusion_matrix.size, 2))\n",
    "    for i, j in iters:\n",
    "        if (i == j):\n",
    "            plt.text(j, i - 0.12, format(confusion_matrix[i, j]), va='center', ha='center', fontsize=12, color='white',\n",
    "                     weight=5)  # 显示对应的数字\n",
    "\n",
    "        else:\n",
    "            plt.text(j, i - 0.12, format(confusion_matrix[i, j]), va='center', ha='center', fontsize=12)  # 显示对应的数字\n",
    "\n",
    "    plt.ylabel('True label', fontsize=16)\n",
    "    plt.xlabel('Predict label', fontsize=16)\n",
    "    plt.tight_layout()\n",
    "    plt.show()"
   ]
  },
  {
   "cell_type": "code",
   "execution_count": 325,
   "metadata": {},
   "outputs": [
    {
     "data": {
      "text/plain": [
       "(14000,)"
      ]
     },
     "execution_count": 325,
     "metadata": {},
     "output_type": "execute_result"
    }
   ],
   "source": [
    "class1=np.argmax(test_loader.dataset.y,axis=1)\n",
    "device='cpu'\n",
    "all_outputs = np.empty((0, 10))\n",
    "net.to(device)\n",
    "for inputs, targets in test_loader:\n",
    "    inputs = inputs.to(device).float()\n",
    "    targets = targets.to(device)\n",
    "    outputs = net.forward(inputs)\n",
    "    outputs = outputs.detach()\n",
    "    # 将outputs转换为numpy数组\n",
    "    outputs = outputs.numpy()\n",
    "    all_outputs = np.concatenate((all_outputs, outputs), axis=0)\n",
    "    # print(all_outputs.shape)\n",
    "\n",
    "y_pre=np.array(all_outputs)\n",
    "\n",
    "class2=np.argmax(y_pre,axis=1)\n",
    "class2.shape"
   ]
  },
  {
   "cell_type": "code",
   "execution_count": 326,
   "metadata": {},
   "outputs": [
    {
     "data": {
      "text/plain": [
       "((14000, 1), (14000, 1))"
      ]
     },
     "execution_count": 326,
     "metadata": {},
     "output_type": "execute_result"
    }
   ],
   "source": [
    "class1=class1.reshape(class1.shape[0],-1)\n",
    "class2=class2.reshape(class2.shape[0],-1)\n",
    "class1.shape,class2.shape"
   ]
  },
  {
   "cell_type": "code",
   "execution_count": 327,
   "metadata": {},
   "outputs": [
    {
     "data": {
      "image/png": "[encoded data removed]",
      "text/plain": [
       "<Figure size 640x480 with 2 Axes>"
      ]
     },
     "metadata": {},
     "output_type": "display_data"
    }
   ],
   "source": [
    "confusion_matrix_plt(class1,class2,range(10))"
   ]
  }
 ],
 "metadata": {
  "kernelspec": {
   "display_name": "Python 3",
   "language": "python",
   "name": "python3"
  },
  "language_info": {
   "codemirror_mode": {
    "name": "ipython",
    "version": 3
   },
   "file_extension": ".py",
   "mimetype": "text/x-python",
   "name": "python",
   "nbconvert_exporter": "python",
   "pygments_lexer": "ipython3",
   "version": "3.7.3"
  },
  "orig_nbformat": 4,
  "vscode": {
   "interpreter": {
    "hash": "96d32af43df8805957db0e5fc6e5fcf3acc7686f781ef48b23e746feb670d8e2"
   }
  }
 },
 "nbformat": 4,
 "nbformat_minor": 2
}
