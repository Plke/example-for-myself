{
 "cells": [
  {
   "cell_type": "code",
   "execution_count": 1,
   "metadata": {},
   "outputs": [
    {
     "name": "stderr",
     "output_type": "stream",
     "text": [
      "c:\\Users\\普朗克\\AppData\\Local\\Programs\\Python\\Python37\\lib\\site-packages\\tqdm\\auto.py:22: TqdmWarning: IProgress not found. Please update jupyter and ipywidgets. See https://ipywidgets.readthedocs.io/en/stable/user_install.html\n",
      "  from .autonotebook import tqdm as notebook_tqdm\n"
     ]
    }
   ],
   "source": [
    "import pickle\n",
    "import matplotlib.pyplot as plt\n",
    "import numpy as np\n",
    "import pandas as pd\n",
    "import cv2\n",
    "import torch\n",
    "from torch import optim\n",
    "from torch import nn\n",
    "import cv2\n",
    "import torchvision.transforms as transforms\n",
    "from torch.utils.data import DataLoader\n",
    "from torch.utils.data.dataset import Dataset\n",
    "import torch.nn.functional as F\n",
    "from tqdm import tqdm\n",
    "import os\n",
    "import math\n"
   ]
  },
  {
   "cell_type": "code",
   "execution_count": 2,
   "metadata": {},
   "outputs": [
    {
     "name": "stdout",
     "output_type": "stream",
     "text": [
      "1.8.2+cu111\n"
     ]
    }
   ],
   "source": [
    "\n",
    "import torch\n",
    "print(torch.__version__)\n"
   ]
  },
  {
   "cell_type": "code",
   "execution_count": 3,
   "metadata": {},
   "outputs": [],
   "source": [
    "def unpickle(file):\n",
    "    with open(file, 'rb') as fo:\n",
    "        dict = pickle.load(fo, encoding='bytes')\n",
    "    return dict"
   ]
  },
  {
   "cell_type": "code",
   "execution_count": 4,
   "metadata": {},
   "outputs": [
    {
     "name": "stdout",
     "output_type": "stream",
     "text": [
      "dict_keys([b'batch_label', b'labels', b'data', b'filenames'])\n"
     ]
    },
    {
     "data": {
      "text/plain": [
       "3"
      ]
     },
     "execution_count": 4,
     "metadata": {},
     "output_type": "execute_result"
    }
   ],
   "source": [
    "data = unpickle('test_batch')\n",
    "print(data.keys()) # dict_keys([b'batch_label', b'labels', b'data', b'filenames'])\n",
    "data[b'labels'][0] # array([158, 159, 165, ..., 124, 129, 110], dtype=uint8)\n",
    "#三通道，每个通道为32*32，拉为1为数组"
   ]
  },
  {
   "cell_type": "code",
   "execution_count": 5,
   "metadata": {},
   "outputs": [],
   "source": [
    "# d = unpickle(\"test_batch\")\n",
    "# print(d)\n",
    "# print(d.keys())\n",
    "# print(d[b'batch_label'])\n",
    "# print(d[b'labels'])\n",
    "# print(d[b'filenames'])\n"
   ]
  },
  {
   "cell_type": "code",
   "execution_count": 6,
   "metadata": {},
   "outputs": [],
   "source": [
    "\n",
    "d = unpickle(\"test_batch\")\n",
    "e = d[b'data']\n",
    "for i in range(100):\n",
    "    image = e[i]\n",
    "    red_image = image[:1024].reshape(32,32)\n",
    "    green_image = image[1024:2048].reshape(32,32)\n",
    "    blue_image = image[2048:].reshape(32,32)\n",
    "    result_img = np.ones((32, 32, 3), dtype=np.uint8)\n",
    "    result_img[:,:,0] = red_image\n",
    "    result_img[:,:,1] = green_image\n",
    "    result_img[:,:,2] = blue_image\n"
   ]
  },
  {
   "cell_type": "code",
   "execution_count": 7,
   "metadata": {},
   "outputs": [],
   "source": [
    "# 定义我们的 transforms (1)\n",
    "train_transform = transforms.Compose([\n",
    "            transforms.ToPILImage(),\n",
    "            transforms.RandomCrop(32, padding=3),\n",
    "            transforms.RandomHorizontalFlip(),\n",
    "            transforms.ColorJitter(),\n",
    "            transforms.ToTensor(),\n",
    "            transforms.Normalize((0.5,0.5,0.5),(0.5,0.5,0.5))\n",
    "        ])\n",
    "test_transform = transforms.Compose([\n",
    "            transforms.ToTensor(),\n",
    "            transforms.Normalize((0.5,0.5,0.5),(0.5,0.5,0.5))\n",
    "        ])\n",
    "class MyDataset(Dataset):\n",
    "    def __init__(self, trainortest, transforms=train_transform):\n",
    "        self.trans=transforms\n",
    "        self.img=[]\n",
    "        self.label=[]\n",
    "        if trainortest==\"train\":\n",
    "            for i in range(5):\n",
    "                d=unpickle(\"data_batch_\"+str(i+1))\n",
    "                data = d[b'data']\n",
    "                label=d[b'labels']\n",
    "                for i in range(len(data)):\n",
    "                    image = data[i]\n",
    "                    red_image = image[:1024].reshape(32,32)\n",
    "                    green_image = image[1024:2048].reshape(32,32)\n",
    "                    blue_image = image[2048:].reshape(32,32)\n",
    "                    # result_img = np.ones((3,32, 32), dtype=np.uint8)\n",
    "                    # result_img[0,:,:] = red_image\n",
    "                    # result_img[1,:,:] = green_image\n",
    "                    # result_img[2,:,:] = blue_image\n",
    "                    result_img = np.ones((32,32, 3), dtype=np.uint8)\n",
    "                    result_img[:,:,0] = red_image\n",
    "                    result_img[:,:,1] = green_image\n",
    "                    result_img[:,:,2] = blue_image\n",
    "                    self.img.append(result_img)\n",
    "                    self.label.append(label[i])\n",
    "        elif trainortest==\"test\":\n",
    "            d=unpickle(\"test_batch\")\n",
    "            data = d[b'data']\n",
    "            label=d[b'labels']\n",
    "            for i in range(len(data)):\n",
    "                image = data[i]\n",
    "                red_image = image[:1024].reshape(32,32)\n",
    "                green_image = image[1024:2048].reshape(32,32)\n",
    "                blue_image = image[2048:].reshape(32,32)\n",
    "                # result_img = np.ones((3,32, 32), dtype=np.uint8)\n",
    "                # result_img[0,:,:] = red_image\n",
    "                # result_img[1,:,:] = green_image\n",
    "                # result_img[2,:,:] = blue_image\n",
    "                result_img = np.ones((32,32, 3), dtype=np.uint8)\n",
    "                result_img[:,:,0] = red_image\n",
    "                result_img[:,:,1] = green_image\n",
    "                result_img[:,:,2] = blue_image\n",
    "                \n",
    "                self.img.append(result_img)\n",
    "                self.label.append(label[i])\n",
    "\n",
    "    def __getitem__(self, index):\n",
    "        img=self.trans(self.img[index])\n",
    "        return (img, self.label[index])\n",
    " \n",
    "    def __len__(self):\n",
    "        return len(self.img)\n",
    "        \n",
    "\n"
   ]
  },
  {
   "cell_type": "code",
   "execution_count": 8,
   "metadata": {},
   "outputs": [],
   "source": [
    "def train(train_data, net, optimizer, loss,cur_epoch,num_pro):\n",
    "    # set model to train mode\n",
    "    net.train()\n",
    "    corrects = 0\n",
    "    if (cur_epoch+1)%num_pro==0:\n",
    "        for inputs, labels in tqdm(train_loader,position=0):\n",
    "            # inputs = torch.unsqueeze(inputs, dim=1)  # 得到的tensor应该是四维\n",
    "            # inputs=inputs.reshape(-1,32*32*3)\n",
    "            inputs = inputs.to(device)\n",
    "            labels = labels.to(device)\n",
    "\n",
    "            # clear the gradients\n",
    "            optimizer.zero_grad()\n",
    "            inputs = inputs.float()\n",
    "            outputs = net(inputs)  # inputs格式要为float\n",
    "            l = loss(outputs, labels)\n",
    "            l.backward()\n",
    "            optimizer.step()\n",
    "\n",
    "            preds = outputs.argmax(1).detach()\n",
    "            corrects += (preds == labels.data).sum()\n",
    "    else:\n",
    "        for inputs, labels in (train_loader):\n",
    "            # inputs = torch.unsqueeze(inputs, dim=1)  # 得到的tensor应该是四维\n",
    "            # inputs=inputs.reshape(-1,32*32*3)\n",
    "            inputs = inputs.to(device)\n",
    "            labels = labels.to(device)\n",
    "\n",
    "            # clear the gradients\n",
    "            optimizer.zero_grad()\n",
    "            inputs = inputs.float()\n",
    "            outputs = net(inputs)  # inputs格式要为float\n",
    "            l = loss(outputs, labels)\n",
    "            l.backward()\n",
    "            optimizer.step()\n",
    "\n",
    "            preds = outputs.argmax(1).detach()\n",
    "            corrects += (preds == labels.data).sum()\n",
    "    torch.save(net,'net.pth')\n",
    "    return torch.true_divide(corrects, len(train_loader.dataset)),l.item()\n",
    "    # print(corrects,len(train_loader.dataset))\n",
    "    return corrects/len(train_loader.dataset)\n",
    "    # tensor的除法用torch.true_divide"
   ]
  },
  {
   "cell_type": "code",
   "execution_count": 9,
   "metadata": {},
   "outputs": [],
   "source": [
    "def test(test_loader, net):\n",
    "    # set model to eval mode\n",
    "    net.eval()\n",
    "    corrects = 0\n",
    "\n",
    "    with torch.no_grad():\n",
    "        for inputs, labels in (test_loader):\n",
    "            # inputs = torch.unsqueeze(inputs, dim=1) \n",
    "            # inputs=inputs.reshape(-1,32*32*3)\n",
    "            inputs = inputs.to(device)\n",
    "            labels = labels.to(device)\n",
    "\n",
    "            inputs = inputs.float()\n",
    "            outputs = net(inputs)\n",
    "\n",
    "            preds = outputs.argmax(1).detach()\n",
    "            corrects += (preds == labels.data).sum()\n",
    "    return corrects/len(test_loader.dataset)"
   ]
  },
  {
   "cell_type": "code",
   "execution_count": 10,
   "metadata": {},
   "outputs": [],
   "source": [
    "train_data=MyDataset('train',transforms=train_transform)\n",
    "test_data=MyDataset('test',transforms=test_transform)\n",
    "train_loader = DataLoader(train_data, batch_size=256, shuffle=True, drop_last=False,num_workers=0)\n",
    "test_loader = DataLoader(test_data, batch_size=256, shuffle=False, drop_last=False,num_workers=0)"
   ]
  },
  {
   "cell_type": "code",
   "execution_count": 11,
   "metadata": {},
   "outputs": [],
   "source": [
    "'''\n",
    "残差块\n",
    "in_channels, out_channels：残差块的输入、输出通道数\n",
    "对第一层，in out channel都是64，其他层则不同\n",
    "对每一层，如果in out channel不同， stride是1，其他层则为2\n",
    "'''\n",
    "class ResBlock(nn.Module):\n",
    "    def __init__(self, in_channels, out_channels, stride=1):\n",
    "        super(ResBlock, self).__init__()\n",
    "\n",
    "        # 残差块的第一个卷积\n",
    "        # 通道数变换in->out，每一层（除第一层外）的第一个block\n",
    "        # 图片尺寸变换：stride=2时，w-3+2 / 2 + 1 = w/2，w/2 * w/2\n",
    "        # stride=1时尺寸不变，w-3+2 / 1 + 1 = w\n",
    "        self.conv1 = nn.Conv2d(in_channels, out_channels, kernel_size=3, stride=stride, padding=1)\n",
    "        self.bn1 = nn.BatchNorm2d(out_channels)\n",
    "        self.relu = nn.ReLU(inplace=True)\n",
    "\n",
    "        # 残差块的第二个卷积\n",
    "        # 通道数、图片尺寸均不变\n",
    "        self.conv2 = nn.Conv2d(out_channels, out_channels, kernel_size=3, stride=1, padding=1)\n",
    "        self.bn2 = nn.BatchNorm2d(out_channels)\n",
    "\n",
    "        # 残差块的shortcut\n",
    "        # 如果残差块的输入输出通道数不同，则需要变换通道数及图片尺寸，以和residual部分相加\n",
    "        # 输出：通道数*2 图片尺寸/2\n",
    "        if in_channels != out_channels:\n",
    "            self.downsample = nn.Sequential(\n",
    "                nn.Conv2d(in_channels, out_channels, kernel_size=1, stride=2),\n",
    "                nn.BatchNorm2d(out_channels)\n",
    "            )\n",
    "        else:\n",
    "            # 通道数相同，无需做变换，在forward中identity = x\n",
    "            self.downsample = None\n",
    "\n",
    "    def forward(self, x):\n",
    "        identity = x\n",
    "\n",
    "        out = self.conv1(x)\n",
    "        out = self.bn1(out)\n",
    "        out = self.relu(out)\n",
    "\n",
    "        out = self.conv2(out)\n",
    "        out = self.bn2(out)\n",
    "\n",
    "        if self.downsample is not None:\n",
    "            identity = self.downsample(x)\n",
    "\n",
    "        out += identity\n",
    "        out = self.relu(out)\n",
    "\n",
    "        return out\n",
    "\n",
    "\n",
    "'''\n",
    "定义网络结构\n",
    "'''\n",
    "class ResNet34(nn.Module):\n",
    "    def __init__(self, block):\n",
    "        super(ResNet34, self).__init__()\n",
    "\n",
    "        # 初始卷积层核池化层\n",
    "        self.first = nn.Sequential(\n",
    "            # 卷基层1：3*3kernel，1stride，1padding，outmap：32-3+1*2 / 1 + 1，32*32\n",
    "            nn.Conv2d(3, 64, 3, 1, 1),\n",
    "            nn.BatchNorm2d(64),\n",
    "            nn.ReLU(inplace=True),\n",
    "\n",
    "            # 最大池化，3*3kernel，1stride（保持尺寸），1padding，\n",
    "            # outmap：32-3+2*1 / 1 + 1，32*32\n",
    "            nn.MaxPool2d(3, 1, 1)\n",
    "        )\n",
    "\n",
    "        # 第一层，通道数不变\n",
    "        self.layer1 = self.make_layer(block, 64, 64, 3, 1)\n",
    "\n",
    "        # 第2、3、4层，通道数*2，图片尺寸/2\n",
    "        self.layer2 = self.make_layer(block, 64, 128, 4, 2)  # 输出16*16\n",
    "        self.layer3 = self.make_layer(block, 128, 256, 6, 2)  # 输出8*8\n",
    "        self.layer4 = self.make_layer(block, 256, 512, 3, 2)  # 输出4*4\n",
    "\n",
    "        self.avg_pool = nn.AvgPool2d(4)  # 输出512*1\n",
    "        self.fc = nn.Sequential(\n",
    "                nn.Linear(512, 10),\n",
    "                nn.Softmax(dim=1)\n",
    "        )\n",
    "        \n",
    "\n",
    "    def make_layer(self, block, in_channels, out_channels, block_num, stride):\n",
    "        layers = []\n",
    "\n",
    "        # 每一层的第一个block，通道数可能不同\n",
    "        layers.append(block(in_channels, out_channels, stride))\n",
    "\n",
    "        # 每一层的其他block，通道数不变，图片尺寸不变\n",
    "        for i in range(block_num - 1):\n",
    "            layers.append(block(out_channels, out_channels, 1))\n",
    "\n",
    "        return nn.Sequential(*layers)\n",
    "\n",
    "    def forward(self, x):\n",
    "        x = self.first(x)\n",
    "        x = self.layer1(x)\n",
    "        x = self.layer2(x)\n",
    "        x = self.layer3(x)\n",
    "        x = self.layer4(x)\n",
    "        x = self.avg_pool(x)\n",
    "\n",
    "        # x.size()[0]: batch size\n",
    "        x = x.view(x.size()[0], -1)\n",
    "        x = self.fc(x)\n",
    "\n",
    "        return x\n",
    "\n",
    "net2 = ResNet34(ResBlock)\n"
   ]
  },
  {
   "cell_type": "code",
   "execution_count": 12,
   "metadata": {},
   "outputs": [],
   "source": [
    "class convnet(nn.Module):\n",
    "    def __init__(self, ):\n",
    "        super(convnet, self).__init__()     #32*32*3\n",
    "        self.layer1 = nn.Sequential(\n",
    "            nn.Conv2d(3, 16, 3),\n",
    "            nn.BatchNorm2d(16),\n",
    "            nn.ReLU(),\n",
    "            nn.MaxPool2d(2)\n",
    "            ) \n",
    "\n",
    "        self.layer2 = nn.Sequential(\n",
    "            nn.Conv2d(16, 32, 3,padding=1),\n",
    "            nn.BatchNorm2d(32),\n",
    "            nn.ReLU(),\n",
    "            nn.AvgPool2d(2)\n",
    "            ) \n",
    "        self.layer3 = nn.Sequential(\n",
    "            nn.Conv2d(32, 64, 2,padding=1),\n",
    "            nn.BatchNorm2d(64),\n",
    "            nn.ReLU(),\n",
    "            nn.AvgPool2d(2)\n",
    "            )\n",
    "        self.layer4 = nn.Sequential(\n",
    "            nn.Conv2d(64, 128, 2),\n",
    "            nn.BatchNorm2d(128),\n",
    "            nn.ReLU(),\n",
    "            nn.MaxPool2d(2),\n",
    "            nn.Flatten(),\n",
    "            )\n",
    "        self.layer5 = nn.Sequential(\n",
    "            nn.Linear(128, 64),\n",
    "            nn.ReLU(),\n",
    "            )\n",
    "        \n",
    "        self.layer6 =nn.Sequential(\n",
    "            nn.Dropout(0.5),\n",
    "            nn.Linear(64, 10),\n",
    "            nn.Softmax(dim=1)\n",
    "            )\n",
    "        \n",
    "    def forward(self, x):\n",
    "        out = self.layer1(x)\n",
    "        # print(out.shape)\n",
    "        out = self.layer2(out)\n",
    "        # print(out.shape)\n",
    "        out = self.layer3(out)\n",
    "        # print(out.shape)\n",
    "        out = self.layer4(out)\n",
    "        # print(out.shape)\n",
    "        out = self.layer5(out)\n",
    "        # print(out.shape)\n",
    "        out = self.layer6(out)\n",
    "\n",
    "        return out\n",
    "\n",
    "net1 = convnet()"
   ]
  },
  {
   "cell_type": "code",
   "execution_count": 13,
   "metadata": {},
   "outputs": [
    {
     "name": "stderr",
     "output_type": "stream",
     "text": [
      "100%|██████████| 196/196 [01:43<00:00,  1.90it/s]\n"
     ]
    },
    {
     "name": "stdout",
     "output_type": "stream",
     "text": [
      "Train Epoch: 10\n",
      "train acc: 0.6049000024795532\n",
      "test acc: 0.5458999872207642\n"
     ]
    },
    {
     "name": "stderr",
     "output_type": "stream",
     "text": [
      "100%|██████████| 196/196 [01:46<00:00,  1.84it/s]\n"
     ]
    },
    {
     "name": "stdout",
     "output_type": "stream",
     "text": [
      "Train Epoch: 20\n",
      "train acc: 0.7393800020217896\n",
      "test acc: 0.715999960899353\n"
     ]
    },
    {
     "name": "stderr",
     "output_type": "stream",
     "text": [
      "100%|██████████| 196/196 [01:49<00:00,  1.79it/s]\n"
     ]
    },
    {
     "name": "stdout",
     "output_type": "stream",
     "text": [
      "Train Epoch: 30\n",
      "train acc: 0.8110399842262268\n",
      "test acc: 0.7665999531745911\n"
     ]
    },
    {
     "name": "stderr",
     "output_type": "stream",
     "text": [
      "100%|██████████| 196/196 [01:42<00:00,  1.92it/s]\n"
     ]
    },
    {
     "name": "stdout",
     "output_type": "stream",
     "text": [
      "Train Epoch: 40\n",
      "train acc: 0.8373399972915649\n",
      "test acc: 0.7865999937057495\n"
     ]
    },
    {
     "name": "stderr",
     "output_type": "stream",
     "text": [
      "100%|██████████| 196/196 [01:41<00:00,  1.93it/s]\n"
     ]
    },
    {
     "name": "stdout",
     "output_type": "stream",
     "text": [
      "Train Epoch: 50\n",
      "train acc: 0.8530399799346924\n",
      "test acc: 0.8197000026702881\n"
     ]
    },
    {
     "name": "stderr",
     "output_type": "stream",
     "text": [
      "100%|██████████| 196/196 [01:59<00:00,  1.64it/s]\n"
     ]
    },
    {
     "name": "stdout",
     "output_type": "stream",
     "text": [
      "Train Epoch: 60\n",
      "train acc: 0.8661800026893616\n",
      "test acc: 0.8315999507904053\n"
     ]
    },
    {
     "name": "stderr",
     "output_type": "stream",
     "text": [
      "100%|██████████| 196/196 [01:42<00:00,  1.91it/s]\n"
     ]
    },
    {
     "name": "stdout",
     "output_type": "stream",
     "text": [
      "Train Epoch: 70\n",
      "train acc: 0.8725999593734741\n",
      "test acc: 0.8448999524116516\n"
     ]
    },
    {
     "name": "stderr",
     "output_type": "stream",
     "text": [
      "100%|██████████| 196/196 [01:40<00:00,  1.94it/s]\n"
     ]
    },
    {
     "name": "stdout",
     "output_type": "stream",
     "text": [
      "Train Epoch: 80\n",
      "train acc: 0.8793799877166748\n",
      "test acc: 0.8522999882698059\n"
     ]
    },
    {
     "name": "stderr",
     "output_type": "stream",
     "text": [
      "100%|██████████| 196/196 [01:40<00:00,  1.94it/s]\n"
     ]
    },
    {
     "name": "stdout",
     "output_type": "stream",
     "text": [
      "Train Epoch: 90\n",
      "train acc: 0.884939968585968\n",
      "test acc: 0.8490999937057495\n"
     ]
    },
    {
     "name": "stderr",
     "output_type": "stream",
     "text": [
      "100%|██████████| 196/196 [02:02<00:00,  1.61it/s]\n"
     ]
    },
    {
     "name": "stdout",
     "output_type": "stream",
     "text": [
      "Train Epoch: 100\n",
      "train acc: 0.8863199949264526\n",
      "test acc: 0.8574000000953674\n"
     ]
    },
    {
     "name": "stderr",
     "output_type": "stream",
     "text": [
      "100%|██████████| 196/196 [01:47<00:00,  1.83it/s]\n"
     ]
    },
    {
     "name": "stdout",
     "output_type": "stream",
     "text": [
      "Train Epoch: 110\n",
      "train acc: 0.8941599726676941\n",
      "test acc: 0.861299991607666\n"
     ]
    },
    {
     "name": "stderr",
     "output_type": "stream",
     "text": [
      "100%|██████████| 196/196 [01:40<00:00,  1.95it/s]\n"
     ]
    },
    {
     "name": "stdout",
     "output_type": "stream",
     "text": [
      "Train Epoch: 120\n",
      "train acc: 0.8946799635887146\n",
      "test acc: 0.8600999712944031\n"
     ]
    },
    {
     "name": "stderr",
     "output_type": "stream",
     "text": [
      "100%|██████████| 196/196 [01:41<00:00,  1.94it/s]\n"
     ]
    },
    {
     "name": "stdout",
     "output_type": "stream",
     "text": [
      "Train Epoch: 130\n",
      "train acc: 0.900439977645874\n",
      "test acc: 0.8500999808311462\n"
     ]
    },
    {
     "name": "stderr",
     "output_type": "stream",
     "text": [
      "100%|██████████| 196/196 [02:00<00:00,  1.63it/s]\n"
     ]
    },
    {
     "name": "stdout",
     "output_type": "stream",
     "text": [
      "Train Epoch: 140\n",
      "train acc: 0.8982599973678589\n",
      "test acc: 0.8542999625205994\n"
     ]
    },
    {
     "name": "stderr",
     "output_type": "stream",
     "text": [
      "100%|██████████| 196/196 [01:56<00:00,  1.69it/s]\n"
     ]
    },
    {
     "name": "stdout",
     "output_type": "stream",
     "text": [
      "Train Epoch: 150\n",
      "train acc: 0.9036799669265747\n",
      "test acc: 0.8649999499320984\n"
     ]
    },
    {
     "data": {
      "image/png": "[encoded data removed]",
      "text/plain": [
       "<Figure size 432x288 with 1 Axes>"
      ]
     },
     "metadata": {
      "needs_background": "light"
     },
     "output_type": "display_data"
    },
    {
     "name": "stdout",
     "output_type": "stream",
     "text": [
      "the max accure of epoch: 125 0.8696\n"
     ]
    }
   ],
   "source": [
    "\n",
    "if torch.cuda.is_available():\n",
    "    device = \"cuda:0\"   # gpu or cpu\n",
    "    net = net2.cuda()\n",
    "else:\n",
    "    device=\"cpu\"\n",
    "\n",
    "\n",
    "optimizer=optim.Adam(net.parameters(),lr=0.001,weight_decay=0.0001)\n",
    "\n",
    "loss = nn.CrossEntropyLoss()\n",
    "train_acc2=[]\n",
    "test_acc2=[]\n",
    "train_loss2=[]\n",
    "epoch=150\n",
    "num_pro=10  #展示次数\n",
    "for i in (range(epoch)):\n",
    "    temp_acc,temp_loss=train(train_loader, net, optimizer, loss,i,num_pro)\n",
    "    train_acc2.append(temp_acc)\n",
    "    train_loss2.append(temp_loss)\n",
    "    test_acc2.append( test(test_loader, net))\n",
    "    if (i+1)%num_pro==0:\n",
    "        print(\"Train Epoch:\",i+1)\n",
    "        print(\"train acc:\", float(train_acc2[i]))\n",
    "        print(\"test acc:\", float(test_acc2[i]))\n",
    "for i in range(len(train_acc2)):\n",
    "    train_acc2[i]=train_acc2[i].data.cpu().numpy()\n",
    "    test_acc2[i]=test_acc2[i].data.cpu().numpy()\n",
    "plt.title('Result Analysis with ResNet34')\n",
    "plt.plot([i+1 for i in range(len(train_acc2))], train_acc2, color='green', label='training accuracy')\n",
    "plt.plot([i+1 for i in range(len(test_acc2))], test_acc2, color='red', label='testing accuracy')\n",
    "plt.plot([i+1 for i in range(len(train_loss2))], train_loss2, color='black', label='training loss')\n",
    "plt.legend() # 显示图例\n",
    "plt.grid(True, alpha=0.5, linewidth = 1)\n",
    "plt.xlabel('iteration times')\n",
    "plt.ylabel('accuracy and loss')\n",
    "plt.show()\n",
    "print(\"the max accure of epoch:\",np.argmax(test_acc2),np.max(test_acc2))"
   ]
  },
  {
   "cell_type": "markdown",
   "metadata": {},
   "source": [
    "卷积神经网络"
   ]
  },
  {
   "cell_type": "code",
   "execution_count": 14,
   "metadata": {},
   "outputs": [
    {
     "name": "stderr",
     "output_type": "stream",
     "text": [
      "100%|██████████| 196/196 [00:56<00:00,  3.50it/s]\n"
     ]
    },
    {
     "name": "stdout",
     "output_type": "stream",
     "text": [
      "Train Epoch: 10\n",
      "train acc: 0.6311799883842468\n",
      "test acc: 0.6331999897956848\n"
     ]
    },
    {
     "name": "stderr",
     "output_type": "stream",
     "text": [
      "100%|██████████| 196/196 [00:55<00:00,  3.52it/s]\n"
     ]
    },
    {
     "name": "stdout",
     "output_type": "stream",
     "text": [
      "Train Epoch: 20\n",
      "train acc: 0.6867799758911133\n",
      "test acc: 0.7037000060081482\n"
     ]
    },
    {
     "name": "stderr",
     "output_type": "stream",
     "text": [
      "100%|██████████| 196/196 [01:00<00:00,  3.22it/s]\n"
     ]
    },
    {
     "name": "stdout",
     "output_type": "stream",
     "text": [
      "Train Epoch: 30\n",
      "train acc: 0.7147200107574463\n",
      "test acc: 0.7228999733924866\n"
     ]
    },
    {
     "name": "stderr",
     "output_type": "stream",
     "text": [
      "100%|██████████| 196/196 [00:49<00:00,  3.99it/s]\n"
     ]
    },
    {
     "name": "stdout",
     "output_type": "stream",
     "text": [
      "Train Epoch: 40\n",
      "train acc: 0.7296800017356873\n",
      "test acc: 0.7292999625205994\n"
     ]
    },
    {
     "name": "stderr",
     "output_type": "stream",
     "text": [
      "100%|██████████| 196/196 [00:49<00:00,  3.99it/s]\n"
     ]
    },
    {
     "name": "stdout",
     "output_type": "stream",
     "text": [
      "Train Epoch: 50\n",
      "train acc: 0.745419979095459\n",
      "test acc: 0.753600001335144\n"
     ]
    },
    {
     "name": "stderr",
     "output_type": "stream",
     "text": [
      "100%|██████████| 196/196 [00:15<00:00, 12.39it/s]\n"
     ]
    },
    {
     "name": "stdout",
     "output_type": "stream",
     "text": [
      "Train Epoch: 60\n",
      "train acc: 0.751479983329773\n",
      "test acc: 0.7574999928474426\n"
     ]
    },
    {
     "name": "stderr",
     "output_type": "stream",
     "text": [
      "100%|██████████| 196/196 [00:50<00:00,  3.89it/s]\n"
     ]
    },
    {
     "name": "stdout",
     "output_type": "stream",
     "text": [
      "Train Epoch: 70\n",
      "train acc: 0.7615000009536743\n",
      "test acc: 0.7548999786376953\n"
     ]
    },
    {
     "name": "stderr",
     "output_type": "stream",
     "text": [
      "100%|██████████| 196/196 [00:54<00:00,  3.58it/s]\n"
     ]
    },
    {
     "name": "stdout",
     "output_type": "stream",
     "text": [
      "Train Epoch: 80\n",
      "train acc: 0.7669199705123901\n",
      "test acc: 0.765999972820282\n"
     ]
    },
    {
     "name": "stderr",
     "output_type": "stream",
     "text": [
      "100%|██████████| 196/196 [01:01<00:00,  3.19it/s]\n"
     ]
    },
    {
     "name": "stdout",
     "output_type": "stream",
     "text": [
      "Train Epoch: 90\n",
      "train acc: 0.7705399990081787\n",
      "test acc: 0.7694999575614929\n"
     ]
    },
    {
     "name": "stderr",
     "output_type": "stream",
     "text": [
      "100%|██████████| 196/196 [00:52<00:00,  3.70it/s]\n"
     ]
    },
    {
     "name": "stdout",
     "output_type": "stream",
     "text": [
      "Train Epoch: 100\n",
      "train acc: 0.7765199542045593\n",
      "test acc: 0.7809999585151672\n"
     ]
    },
    {
     "name": "stderr",
     "output_type": "stream",
     "text": [
      "100%|██████████| 196/196 [00:52<00:00,  3.77it/s]\n"
     ]
    },
    {
     "name": "stdout",
     "output_type": "stream",
     "text": [
      "Train Epoch: 110\n",
      "train acc: 0.7798799872398376\n",
      "test acc: 0.7735999822616577\n"
     ]
    },
    {
     "name": "stderr",
     "output_type": "stream",
     "text": [
      "100%|██████████| 196/196 [00:51<00:00,  3.84it/s]\n"
     ]
    },
    {
     "name": "stdout",
     "output_type": "stream",
     "text": [
      "Train Epoch: 120\n",
      "train acc: 0.7834599614143372\n",
      "test acc: 0.7798999547958374\n"
     ]
    },
    {
     "name": "stderr",
     "output_type": "stream",
     "text": [
      "100%|██████████| 196/196 [00:51<00:00,  3.79it/s]\n"
     ]
    },
    {
     "name": "stdout",
     "output_type": "stream",
     "text": [
      "Train Epoch: 130\n",
      "train acc: 0.7852399945259094\n",
      "test acc: 0.786799967288971\n"
     ]
    },
    {
     "name": "stderr",
     "output_type": "stream",
     "text": [
      "100%|██████████| 196/196 [00:50<00:00,  3.89it/s]\n"
     ]
    },
    {
     "name": "stdout",
     "output_type": "stream",
     "text": [
      "Train Epoch: 140\n",
      "train acc: 0.7895599603652954\n",
      "test acc: 0.7760999798774719\n"
     ]
    },
    {
     "name": "stderr",
     "output_type": "stream",
     "text": [
      "100%|██████████| 196/196 [00:51<00:00,  3.80it/s]\n"
     ]
    },
    {
     "name": "stdout",
     "output_type": "stream",
     "text": [
      "Train Epoch: 150\n",
      "train acc: 0.7912399768829346\n",
      "test acc: 0.7888999581336975\n"
     ]
    },
    {
     "data": {
      "image/png": "[encoded data removed]",
      "text/plain": [
       "<Figure size 432x288 with 1 Axes>"
      ]
     },
     "metadata": {
      "needs_background": "light"
     },
     "output_type": "display_data"
    },
    {
     "name": "stdout",
     "output_type": "stream",
     "text": [
      "the max accure of epoch: 143 0.793\n"
     ]
    }
   ],
   "source": [
    "if torch.cuda.is_available():\n",
    "    device = \"cuda:0\"   # gpu or cpu\n",
    "    net = net1.cuda()\n",
    "else:\n",
    "    device=\"cpu\"\n",
    "\n",
    "optimizer=optim.Adam(net.parameters(),lr=0.001,weight_decay=0.0001)\n",
    "\n",
    "loss = nn.CrossEntropyLoss()\n",
    "train_acc=[]\n",
    "test_acc=[]\n",
    "train_loss=[]\n",
    "epoch=150\n",
    "num_pro=10  #展示次数\n",
    "for i in (range(epoch)):\n",
    "    temp_acc,temp_loss=train(train_loader, net, optimizer, loss,i,num_pro)\n",
    "    train_acc.append(temp_acc)\n",
    "    train_loss.append(temp_loss)\n",
    "    test_acc.append( test(test_loader, net))\n",
    "    if (i+1)%num_pro==0:\n",
    "        print(\"Train Epoch:\",i+1)\n",
    "        print(\"train acc:\", float(train_acc[i]))\n",
    "        print(\"test acc:\", float(test_acc[i]))\n",
    "for i in range(len(train_acc)):\n",
    "    train_acc[i]=train_acc[i].data.cpu().numpy()\n",
    "    test_acc[i]=test_acc[i].data.cpu().numpy()\n",
    "plt.title('Result Analysis with conv_net')\n",
    "plt.plot([i+1 for i in range(len(train_acc))], train_acc, color='green', label='training accuracy')\n",
    "plt.plot([i+1 for i in range(len(test_acc))], test_acc, color='red', label='testing accuracy')\n",
    "plt.plot([i+1 for i in range(len(train_loss))], train_loss, color='black', label='training loss')\n",
    "plt.legend() # 显示图例\n",
    "plt.grid(True, alpha=0.5, linewidth = 1)\n",
    "plt.xlabel('iteration times')\n",
    "plt.ylabel('accuracy and loss')\n",
    "plt.show()\n",
    "print(\"the max accure of epoch:\",np.argmax(test_acc),np.max(test_acc))"
   ]
  },
  {
   "cell_type": "code",
   "execution_count": 15,
   "metadata": {},
   "outputs": [
    {
     "data": {
      "image/png": "[encoded data removed]",
      "text/plain": [
       "<Figure size 432x288 with 1 Axes>"
      ]
     },
     "metadata": {
      "needs_background": "light"
     },
     "output_type": "display_data"
    },
    {
     "name": "stdout",
     "output_type": "stream",
     "text": [
      "the max accure with conv of epoch: 143 0.793\n",
      "the max accure with ResNet34 of epoch: 125 0.8696\n"
     ]
    }
   ],
   "source": [
    "dif_train_acc=[x-y for x,y in zip(train_acc,train_acc2) ]\n",
    "dif_test_acc=[x-y for x,y in zip(test_acc,test_acc2) ]\n",
    "dif_train_loss=[x-y for x,y in zip(train_loss,train_loss2) ]\n",
    "plt.title('Result Analysis the difference of two net')\n",
    "plt.plot([i+1 for i in range(len(dif_train_acc))], dif_train_acc, color='green', label='difference training accuracy')\n",
    "plt.plot([i+1 for i in range(len(dif_test_acc))], dif_test_acc, color='red', label='difference testing accuracy')\n",
    "plt.plot([i+1 for i in range(len(dif_train_loss))], dif_train_loss, color='black', label='difference training loss')\n",
    "plt.legend() # 显示图例\n",
    "plt.grid(True, alpha=0.5, linewidth = 1)\n",
    "plt.xlabel('iteration times')\n",
    "plt.ylabel('the difference value of accuracy and loss')\n",
    "plt.show()\n",
    "print(\"the max accure with conv of epoch:\",np.argmax(test_acc),np.max(test_acc))\n",
    "print(\"the max accure with ResNet34 of epoch:\",np.argmax(test_acc2),np.max(test_acc2))"
   ]
  },
  {
   "cell_type": "markdown",
   "metadata": {},
   "source": []
  },
  {
   "cell_type": "markdown",
   "metadata": {},
   "source": [
    "训练次数还不够多，但是正确率趋于稳定，用了resnet的效果明显好一些"
   ]
  }
 ],
 "metadata": {
  "interpreter": {
   "hash": "6fc95428b3118f3b56c64190c795d9f91b8e926552800abb40d0980073bba8e2"
  },
  "kernelspec": {
   "display_name": "Python 3",
   "language": "python",
   "name": "python3"
  },
  "language_info": {
   "codemirror_mode": {
    "name": "ipython",
    "version": 3
   },
   "file_extension": ".py",
   "mimetype": "text/x-python",
   "name": "python",
   "nbconvert_exporter": "python",
   "pygments_lexer": "ipython3",
   "version": "3.7.3"
  },
  "orig_nbformat": 4
 },
 "nbformat": 4,
 "nbformat_minor": 2
}
